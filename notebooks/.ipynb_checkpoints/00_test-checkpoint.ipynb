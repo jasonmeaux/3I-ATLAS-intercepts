{
 "cells": [
  {
   "cell_type": "markdown",
   "id": "4a1976aa",
   "metadata": {},
   "source": [
    "# Catch that asteroid!"
   ]
  },
  {
   "cell_type": "markdown",
   "id": "30bfff49",
   "metadata": {},
   "source": [
    "First, we need to increase the timeout time to allow the download of data occur properly:"
   ]
  },
  {
   "cell_type": "code",
   "execution_count": null,
   "id": "7ce8fb32",
   "metadata": {},
   "outputs": [],
   "source": [
    "from astropy.utils.data import conf\n",
    "\n",
    "conf.dataurl"
   ]
  },
  {
   "cell_type": "code",
   "execution_count": null,
   "id": "9e852f51",
   "metadata": {},
   "outputs": [],
   "source": [
    "conf.remote_timeout"
   ]
  },
  {
   "cell_type": "code",
   "execution_count": null,
   "id": "322d9146",
   "metadata": {},
   "outputs": [],
   "source": [
    "conf.remote_timeout = 10000"
   ]
  },
  {
   "cell_type": "markdown",
   "id": "bd234234",
   "metadata": {},
   "source": [
    "Then, we do the rest of the imports:"
   ]
  },
  {
   "cell_type": "code",
   "execution_count": null,
   "id": "785ec833",
   "metadata": {},
   "outputs": [],
   "source": [
    "from astropy import units as u\n",
    "from astropy.time import Time, TimeDelta\n",
    "from astropy.coordinates import solar_system_ephemeris\n",
    "\n",
    "solar_system_ephemeris.set(\"jpl\")\n",
    "\n",
    "from poliastro.bodies import Sun, Earth, Moon\n",
    "from poliastro.ephem import Ephem\n",
    "from poliastro.frames import Planes\n",
    "from poliastro.plotting import StaticOrbitPlotter\n",
    "from poliastro.plotting.misc import plot_solar_system\n",
    "from poliastro.twobody import Orbit\n",
    "from poliastro.util import norm, time_range\n",
    "\n",
    "EPOCH = Time(\"2017-09-01 12:05:50\", scale=\"tdb\")\n",
    "C_FLORENCE = \"#000\"\n",
    "C_MOON = \"#999\""
   ]
  },
  {
   "cell_type": "code",
   "execution_count": null,
   "id": "4cf2fff7",
   "metadata": {},
   "outputs": [],
   "source": [
    "Earth.plot(EPOCH)"
   ]
  },
  {
   "cell_type": "markdown",
   "id": "ea0dfa9e",
   "metadata": {},
   "source": [
    "Our first option to retrieve the orbit of the Florence asteroid is to use `Orbit.from_sbdb`, which gives us the osculating elements at a certain epoch:"
   ]
  },
  {
   "cell_type": "code",
   "execution_count": null,
   "id": "184a89af",
   "metadata": {},
   "outputs": [],
   "source": [
    "florence_osc = Orbit.from_sbdb(\"Florence\")\n",
    "florence_osc"
   ]
  },
  {
   "cell_type": "markdown",
   "id": "ad48ad88",
   "metadata": {},
   "source": [
    "However, the epoch of the result is not close to the time of the close approach we are studying:"
   ]
  },
  {
   "cell_type": "code",
   "execution_count": null,
   "id": "5301dd20",
   "metadata": {},
   "outputs": [],
   "source": [
    "florence_osc.epoch.iso"
   ]
  },
  {
   "cell_type": "markdown",
   "id": "c7f86236",
   "metadata": {},
   "source": [
    "Therefore, if we `propagate` this orbit to `EPOCH`, the results will be a bit different from the reality. Therefore, we need to find some other means.\n",
    "\n",
    "Let's use the `Ephem.from_horizons` method as an alternative, sampling over a period of 6 months:"
   ]
  },
  {
   "cell_type": "code",
   "execution_count": null,
   "id": "433c6f45",
   "metadata": {},
   "outputs": [],
   "source": [
    "epochs = time_range(\n",
    "    EPOCH - TimeDelta(3 * 30 * u.day), end=EPOCH + TimeDelta(3 * 30 * u.day)\n",
    ")"
   ]
  },
  {
   "cell_type": "code",
   "execution_count": null,
   "id": "5d960a29",
   "metadata": {},
   "outputs": [],
   "source": [
    "florence = Ephem.from_horizons(\"Florence\", epochs, plane=Planes.EARTH_ECLIPTIC)\n",
    "florence"
   ]
  },
  {
   "cell_type": "code",
   "execution_count": null,
   "id": "5950edf4",
   "metadata": {},
   "outputs": [],
   "source": [
    "florence.plane"
   ]
  },
  {
   "cell_type": "markdown",
   "id": "204ef10e",
   "metadata": {},
   "source": [
    "And now, let's compute the distance between Florence and the Earth at that epoch:"
   ]
  },
  {
   "cell_type": "code",
   "execution_count": null,
   "id": "13801385",
   "metadata": {},
   "outputs": [],
   "source": [
    "earth = Ephem.from_body(Earth, epochs, plane=Planes.EARTH_ECLIPTIC)\n",
    "earth"
   ]
  },
  {
   "cell_type": "code",
   "execution_count": null,
   "id": "065657d8",
   "metadata": {},
   "outputs": [],
   "source": [
    "min_distance = norm(florence.rv(EPOCH)[0] - earth.rv(EPOCH)[0]) - Earth.R\n",
    "min_distance.to(u.km)"
   ]
  },
  {
   "cell_type": "markdown",
   "id": "2c9e844a",
   "metadata": {},
   "source": [
    "<div class=\"alert alert-success\">This value is consistent with what ESA says! $7\\,060\\,160$ km</div>"
   ]
  },
  {
   "cell_type": "code",
   "execution_count": null,
   "id": "185ae497",
   "metadata": {},
   "outputs": [],
   "source": [
    "abs((min_distance - 7060160 * u.km) / (7060160 * u.km)).decompose()"
   ]
  },
  {
   "cell_type": "code",
   "execution_count": null,
   "id": "be4b315c",
   "metadata": {},
   "outputs": [],
   "source": [
    "from IPython.display import HTML\n",
    "\n",
    "HTML(\n",
    "    \"\"\"<blockquote class=\"twitter-tweet\" data-lang=\"en\"><p lang=\"es\" dir=\"ltr\">La <a href=\"https://twitter.com/esa_es\">@esa_es</a> ha preparado un resumen del asteroide <a href=\"https://twitter.com/hashtag/Florence?src=hash\">#Florence</a> 😍 <a href=\"https://t.co/Sk1lb7Kz0j\">pic.twitter.com/Sk1lb7Kz0j</a></p>&mdash; AeroPython (@AeroPython) <a href=\"https://twitter.com/AeroPython/status/903197147914543105\">August 31, 2017</a></blockquote>\n",
    "<script src=\"//platform.twitter.com/widgets.js\" charset=\"utf-8\"></script>\"\"\"\n",
    ")"
   ]
  },
  {
   "cell_type": "markdown",
   "id": "9f966897",
   "metadata": {},
   "source": [
    "And now we can plot!"
   ]
  },
  {
   "cell_type": "code",
   "execution_count": null,
   "id": "a3129a2a",
   "metadata": {
    "tags": [
     "nbsphinx-thumbnail"
    ]
   },
   "outputs": [],
   "source": [
    "frame = plot_solar_system(outer=False, epoch=EPOCH)\n",
    "frame.plot_ephem(florence, EPOCH, label=\"Florence\", color=C_FLORENCE)"
   ]
  },
  {
   "cell_type": "markdown",
   "id": "39c68ad1",
   "metadata": {},
   "source": [
    "Finally, we are going to visualize the orbit of Florence with respect to the Earth. For that, we set a narrower time range, and specify that we want to retrieve the ephemerides with respect to our planet:"
   ]
  },
  {
   "cell_type": "code",
   "execution_count": null,
   "id": "d736d4b7",
   "metadata": {},
   "outputs": [],
   "source": [
    "epochs = time_range(\n",
    "    EPOCH - TimeDelta(5 * u.day), end=EPOCH + TimeDelta(5 * u.day)\n",
    ")"
   ]
  },
  {
   "cell_type": "code",
   "execution_count": null,
   "id": "42cf0475",
   "metadata": {},
   "outputs": [],
   "source": [
    "florence_e = Ephem.from_horizons(\"Florence\", epochs, attractor=Earth)\n",
    "florence_e"
   ]
  },
  {
   "cell_type": "markdown",
   "id": "14a2013f",
   "metadata": {},
   "source": [
    "We now retrieve the ephemerides of the Moon, which are given directly in GCRS:"
   ]
  },
  {
   "cell_type": "code",
   "execution_count": null,
   "id": "f9140279",
   "metadata": {},
   "outputs": [],
   "source": [
    "moon = Ephem.from_body(Moon, epochs, attractor=Earth)\n",
    "moon"
   ]
  },
  {
   "cell_type": "code",
   "execution_count": null,
   "id": "1f35896a",
   "metadata": {},
   "outputs": [],
   "source": [
    "plotter = StaticOrbitPlotter()\n",
    "plotter.set_attractor(Earth)\n",
    "plotter.set_body_frame(Moon)\n",
    "plotter.plot_ephem(moon, EPOCH, label=Moon, color=C_MOON)"
   ]
  },
  {
   "cell_type": "markdown",
   "id": "e62b34d1",
   "metadata": {},
   "source": [
    "And now, the glorious final plot:"
   ]
  },
  {
   "cell_type": "code",
   "execution_count": null,
   "id": "b85ba9f4",
   "metadata": {},
   "outputs": [],
   "source": [
    "from matplotlib import pyplot as plt\n",
    "\n",
    "frame = StaticOrbitPlotter()\n",
    "\n",
    "frame.set_attractor(Earth)\n",
    "frame.set_orbit_frame(Orbit.from_ephem(Earth, florence_e, EPOCH))\n",
    "\n",
    "frame.plot_ephem(florence_e, EPOCH, label=\"Florence\", color=C_FLORENCE)\n",
    "frame.plot_ephem(moon, EPOCH, label=Moon, color=C_MOON)"
   ]
  }
 ],
 "metadata": {
  "jupytext": {
   "encoding": "# -*- coding: utf-8 -*-"
  },
  "kernelspec": {
   "display_name": "Python 3",
   "language": "python",
   "name": "python3"
  }
 },
 "nbformat": 4,
 "nbformat_minor": 5
}
